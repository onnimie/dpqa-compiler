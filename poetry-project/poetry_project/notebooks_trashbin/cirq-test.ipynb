{
 "cells": [
  {
   "cell_type": "markdown",
   "metadata": {},
   "source": [
    "### This is a test notebook for quickly testing the Cirq library and related tools"
   ]
  },
  {
   "cell_type": "code",
   "execution_count": 1,
   "metadata": {},
   "outputs": [],
   "source": [
    "import cirq\n",
    "import numpy as np\n",
    "import matplotlib.pyplot as plt"
   ]
  },
  {
   "cell_type": "code",
   "execution_count": 2,
   "metadata": {},
   "outputs": [
    {
     "name": "stdout",
     "output_type": "stream",
     "text": [
      "Circuit:\n",
      "\n",
      "a: ───H───────────\n",
      "\n",
      "b: ───H───@───H───\n",
      "          │\n",
      "c: ───────X───────\n"
     ]
    }
   ],
   "source": [
    "\"\"\"Creating a circuit.\"\"\"\n",
    "\n",
    "# Define three qubits.\n",
    "a = cirq.NamedQubit(\"a\")\n",
    "b = cirq.NamedQubit(\"b\")\n",
    "c = cirq.NamedQubit(\"c\")\n",
    "\n",
    "# Define a list of operations.\n",
    "ops = [cirq.H(a), cirq.H(b), cirq.CNOT(b, c), cirq.H(b)]\n",
    "\n",
    "# Create a circuit from the list of operations.\n",
    "circuit = cirq.Circuit(ops)\n",
    "print(\"Circuit:\\n\")\n",
    "print(circuit)"
   ]
  },
  {
   "cell_type": "code",
   "execution_count": 3,
   "metadata": {},
   "outputs": [
    {
     "name": "stdout",
     "output_type": "stream",
     "text": [
      "a: ───X^0.5───@───X^0.5───M───\n",
      "              │           │\n",
      "b: ───X^0.5───@───X^0.5───M───\n"
     ]
    }
   ],
   "source": [
    "\"\"\"Get a circuit to simulate.\"\"\"\n",
    "\n",
    "\n",
    "def basic_circuit(measure=True):\n",
    "    \"\"\"Returns a simple circuit with some one- and two-qubit gates,\n",
    "    as well as (optionally) measurements.\n",
    "    \"\"\"\n",
    "    # Gates we will use in the circuit.\n",
    "    sqrt_x = cirq.X**0.5\n",
    "    cz = cirq.CZ\n",
    "\n",
    "    # Yield the operations.\n",
    "    yield sqrt_x(a), sqrt_x(b)\n",
    "    yield cz(a, b)\n",
    "    yield sqrt_x(a), sqrt_x(b)\n",
    "    if measure:\n",
    "        yield cirq.measure(a, b)\n",
    "\n",
    "\n",
    "# Create a circuit including measurements.\n",
    "circuit = cirq.Circuit(basic_circuit())\n",
    "print(circuit)"
   ]
  },
  {
   "cell_type": "code",
   "execution_count": 4,
   "metadata": {},
   "outputs": [
    {
     "name": "stdout",
     "output_type": "stream",
     "text": [
      "Measurement results:\n",
      "a,b=0, 1\n"
     ]
    }
   ],
   "source": [
    "\"\"\"Example of simulating a circuit in Cirq.\"\"\"\n",
    "\n",
    "# Get a simulator.\n",
    "simulator = cirq.Simulator()\n",
    "\n",
    "# Pass the circuit to the simulator.run method.\n",
    "result = simulator.run(circuit, repetitions=1)\n",
    "print(\"Measurement results:\")\n",
    "print(result)"
   ]
  },
  {
   "cell_type": "code",
   "execution_count": 5,
   "metadata": {},
   "outputs": [
    {
     "name": "stdout",
     "output_type": "stream",
     "text": [
      "State vector:\n",
      "[0.5+0.j  0. +0.5j 0. +0.5j 0.5+0.j ]\n",
      "\n",
      "Dirac notation:\n",
      "0.5|00⟩ + 0.5j|01⟩ + 0.5j|10⟩ + 0.5|11⟩\n"
     ]
    }
   ],
   "source": [
    "\"\"\"Simulating a circuit with the `simulate` method.\"\"\"\n",
    "\n",
    "# Get a circuit without measurements.\n",
    "circuit = cirq.Circuit(basic_circuit(measure=False))\n",
    "\n",
    "# Simulate the circuit.\n",
    "result = simulator.simulate(circuit, qubit_order=[a, b])\n",
    "\n",
    "# Print the final state vector (wavefunction).\n",
    "print(\"State vector:\")\n",
    "print(np.around(result.final_state_vector, 3))\n",
    "\n",
    "# Print the state vector in Dirac notation.\n",
    "print(\"\\nDirac notation:\")\n",
    "print(result.dirac_notation())"
   ]
  },
  {
   "cell_type": "code",
   "execution_count": 6,
   "metadata": {},
   "outputs": [
    {
     "name": "stdout",
     "output_type": "stream",
     "text": [
      "Counter({2: 278, 1: 248, 0: 239, 3: 235})\n"
     ]
    },
    {
     "name": "stderr",
     "output_type": "stream",
     "text": [
      "c:\\Users\\onni\\AppData\\Local\\pypoetry\\Cache\\virtualenvs\\poetry-project-zZbqvrMu-py3.10\\lib\\site-packages\\cirq\\vis\\state_histogram.py:103: UserWarning: FigureCanvasAgg is non-interactive, and thus cannot be shown\n",
      "  fig.show()\n"
     ]
    },
    {
     "data": {
      "text/plain": [
       "<Axes: title={'center': 'Result State Histogram'}, xlabel='qubit state', ylabel='result count'>"
      ]
     },
     "execution_count": 6,
     "metadata": {},
     "output_type": "execute_result"
    },
    {
     "data": {
      "image/png": "[encoded data removed]",
      "text/plain": [
       "<Figure size 640x480 with 1 Axes>"
      ]
     },
     "metadata": {},
     "output_type": "display_data"
    }
   ],
   "source": [
    "\"\"\"Simulate a circuit using 1000 repetitions.\"\"\"\n",
    "\n",
    "# Get a circuit with terminal measurements to simulate.\n",
    "circuit = cirq.Circuit(basic_circuit())\n",
    "\n",
    "# Sample from the circuit 1000 times.\n",
    "result = simulator.run(circuit, repetitions=1000)\n",
    "\n",
    "# Get a histogram of measurement results.\n",
    "print(result.histogram(key=\"a,b\"))\n",
    "\n",
    "# Plot a state histogram of the result.\n",
    "cirq.plot_state_histogram(result)"
   ]
  },
  {
   "cell_type": "code",
   "execution_count": null,
   "metadata": {},
   "outputs": [
    {
     "name": "stdout",
     "output_type": "stream",
     "text": [
      "<method-wrapper '__str__' of SquareDevice object at 0x0000026C280FD540>\n"
     ]
    }
   ],
   "source": [
    "# Device that has a grid of qubits and only allows H, CZ and measurement operations\n",
    "\n",
    "class SquareDevice(cirq.Device):\n",
    "    \"\"\"A Square Grid Device.\n",
    "\n",
    "    The device that only allows\n",
    "        1) Grid Qubits from (0, 0) to (grid_size - 1, grid_size - 1)\n",
    "        2) H, CZ and MeasurementGate gates.\n",
    "    \"\"\"\n",
    "\n",
    "    def __init__(self, grid_size):\n",
    "        self.qubits = []\n",
    "        for i in range(grid_size):\n",
    "            for j in range(grid_size):\n",
    "                self.qubits.append(cirq.GridQubit(i, j))\n",
    "\n",
    "    def validate_operation(self, operation: 'cirq.Operation') -> None:\n",
    "        if not isinstance(operation, cirq.GateOperation):\n",
    "            raise ValueError(f\"Unsupported operation {operation}\")\n",
    "        if not (\n",
    "            operation.gate in [cirq.H, cirq.CZ] or isinstance(operation.gate, cirq.MeasurementGate)\n",
    "        ):\n",
    "            raise ValueError(f\"Unsupported gate {operation.gate}\")\n",
    "        for qubit in operation.qubits:\n",
    "            if qubit not in self.qubits:\n",
    "                raise ValueError(f\"Qubit {qubit} not on device\")\n",
    "\n"
   ]
  }
 ],
 "metadata": {
  "kernelspec": {
   "display_name": "poetry-project-zZbqvrMu-py3.10",
   "language": "python",
   "name": "python3"
  },
  "language_info": {
   "codemirror_mode": {
    "name": "ipython",
    "version": 3
   },
   "file_extension": ".py",
   "mimetype": "text/x-python",
   "name": "python",
   "nbconvert_exporter": "python",
   "pygments_lexer": "ipython3",
   "version": "3.10.2"
  }
 },
 "nbformat": 4,
 "nbformat_minor": 2
}
